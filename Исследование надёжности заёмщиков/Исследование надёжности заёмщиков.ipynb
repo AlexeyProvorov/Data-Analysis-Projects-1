{
 "cells": [
  {
   "cell_type": "markdown",
   "metadata": {},
   "source": [
    "## Исследование надёжности заёмщиков\n",
    "\n",
    "Заказчик — кредитный отдел банка. Нужно разобраться, влияет ли семейное положение и количество детей клиента на факт погашения кредита в срок. Входные данные от банка — статистика о платёжеспособности клиентов.\n",
    "\n",
    "Результаты исследования будут учтены при построении модели **кредитного скоринга** — специальной системы, которая оценивает способность потенциального заёмщика вернуть кредит банку."
   ]
  },
  {
   "cell_type": "markdown",
   "metadata": {},
   "source": [
    "### Шаг 1. Изучим общую информацию. "
   ]
  },
  {
   "cell_type": "code",
   "execution_count": 1,
   "metadata": {},
   "outputs": [
    {
     "name": "stdout",
     "output_type": "stream",
     "text": [
      "<class 'pandas.core.frame.DataFrame'>\n",
      "RangeIndex: 21525 entries, 0 to 21524\n",
      "Data columns (total 12 columns):\n",
      "children            21525 non-null int64\n",
      "days_employed       19351 non-null float64\n",
      "dob_years           21525 non-null int64\n",
      "education           21525 non-null object\n",
      "education_id        21525 non-null int64\n",
      "family_status       21525 non-null object\n",
      "family_status_id    21525 non-null int64\n",
      "gender              21525 non-null object\n",
      "income_type         21525 non-null object\n",
      "debt                21525 non-null int64\n",
      "total_income        19351 non-null float64\n",
      "purpose             21525 non-null object\n",
      "dtypes: float64(2), int64(5), object(5)\n",
      "memory usage: 2.0+ MB\n",
      "None\n"
     ]
    }
   ],
   "source": [
    "import pandas as pd\n",
    "data = pd.read_csv('/datasets/data.csv') \n",
    "print(data.info())"
   ]
  },
  {
   "cell_type": "code",
   "execution_count": 2,
   "metadata": {},
   "outputs": [
    {
     "name": "stdout",
     "output_type": "stream",
     "text": [
      "   children  days_employed  dob_years education  education_id  \\\n",
      "0         1   -8437.673028         42    высшее             0   \n",
      "1         1   -4024.803754         36   среднее             1   \n",
      "2         0   -5623.422610         33   Среднее             1   \n",
      "3         3   -4124.747207         32   среднее             1   \n",
      "4         0  340266.072047         53   среднее             1   \n",
      "\n",
      "      family_status  family_status_id gender income_type  debt   total_income  \\\n",
      "0   женат / замужем                 0      F   сотрудник     0  253875.639453   \n",
      "1   женат / замужем                 0      F   сотрудник     0  112080.014102   \n",
      "2   женат / замужем                 0      M   сотрудник     0  145885.952297   \n",
      "3   женат / замужем                 0      M   сотрудник     0  267628.550329   \n",
      "4  гражданский брак                 1      F   пенсионер     0  158616.077870   \n",
      "\n",
      "                      purpose  \n",
      "0               покупка жилья  \n",
      "1     приобретение автомобиля  \n",
      "2               покупка жилья  \n",
      "3  дополнительное образование  \n",
      "4             сыграть свадьбу  \n"
     ]
    }
   ],
   "source": [
    "print(data.head())"
   ]
  },
  {
   "cell_type": "markdown",
   "metadata": {},
   "source": [
    "### Вывод"
   ]
  },
  {
   "cell_type": "markdown",
   "metadata": {},
   "source": [
    "Заметим, что количество пустых значений в day_employed и total_income одинаково. Займемся заполнением пустых значений. Заметим, что у пенсионера 100 лет стажа, это артефакт, с которым мы разберемся позже."
   ]
  },
  {
   "cell_type": "markdown",
   "metadata": {},
   "source": [
    "### Шаг 2. Предобработка данных"
   ]
  },
  {
   "cell_type": "markdown",
   "metadata": {},
   "source": [
    "### Обработка пропусков"
   ]
  },
  {
   "cell_type": "markdown",
   "metadata": {},
   "source": [
    "Посмотрим количество пропусков в ежемесячном доходе для каждого типа занятости:"
   ]
  },
  {
   "cell_type": "code",
   "execution_count": 3,
   "metadata": {},
   "outputs": [
    {
     "name": "stdout",
     "output_type": "stream",
     "text": [
      "сотрудник          1105\n",
      "компаньон           508\n",
      "пенсионер           413\n",
      "госслужащий         147\n",
      "предприниматель       1\n",
      "Name: income_type, dtype: int64\n"
     ]
    }
   ],
   "source": [
    "print(data[data['total_income'].isnull()]['income_type'].value_counts())\n",
    "\n"
   ]
  },
  {
   "cell_type": "markdown",
   "metadata": {},
   "source": [
    "Проверим теперь для общего трудового стажа:"
   ]
  },
  {
   "cell_type": "code",
   "execution_count": 4,
   "metadata": {},
   "outputs": [
    {
     "name": "stdout",
     "output_type": "stream",
     "text": [
      "сотрудник          1105\n",
      "компаньон           508\n",
      "пенсионер           413\n",
      "госслужащий         147\n",
      "предприниматель       1\n",
      "Name: income_type, dtype: int64\n"
     ]
    }
   ],
   "source": [
    "print(data[data['days_employed'].isnull()]['income_type'].value_counts())"
   ]
  },
  {
   "cell_type": "markdown",
   "metadata": {},
   "source": [
    "Заметим, что выводы одинаковые. Убедимся, что если пропущен стаж, то и ежемесячный доход тоже пропущен:"
   ]
  },
  {
   "cell_type": "code",
   "execution_count": 5,
   "metadata": {},
   "outputs": [
    {
     "name": "stdout",
     "output_type": "stream",
     "text": [
      "сотрудник          1105\n",
      "компаньон           508\n",
      "пенсионер           413\n",
      "госслужащий         147\n",
      "предприниматель       1\n",
      "Name: income_type, dtype: int64\n"
     ]
    }
   ],
   "source": [
    "print(data[(data['total_income'].isnull()) & (data['days_employed'].isnull())]['income_type'].value_counts())"
   ]
  },
  {
   "cell_type": "markdown",
   "metadata": {},
   "source": [
    "Такие ошибки могут быть обусловленны техническими сбоями.  \n",
    "Заполнять пропуски будем с помощью медианы, так как мы хотим сохранить параметры распределения заполняемой переменной.  \n",
    "Теперь заполним пропуски с помощью группировки по одной переменной:"
   ]
  },
  {
   "cell_type": "code",
   "execution_count": 6,
   "metadata": {},
   "outputs": [
    {
     "name": "stdout",
     "output_type": "stream",
     "text": [
      "Пропуски в стаже работы до заполнения: 2174\n",
      "Пропуски в ежемесячном доходе до заполнения: 2174\n",
      "Медиана стажа: -1574.20 сотрудник , медиана зарплаты: 142594.40 сотрудник\n",
      "Медиана стажа: 365213.31 пенсионер , медиана зарплаты: 118514.49 пенсионер\n",
      "Медиана стажа: -1547.38 компаньон , медиана зарплаты: 172357.95 компаньон\n",
      "Медиана стажа: -2689.37 госслужащий , медиана зарплаты: 150447.94 госслужащий\n",
      "Медиана стажа: 366413.65 безработный , медиана зарплаты: 131339.75 безработный\n",
      "Медиана стажа: -520.85 предприниматель , медиана зарплаты: 499163.14 предприниматель\n",
      "Медиана стажа: -578.75 студент , медиана зарплаты: 98201.63 студент\n",
      "Медиана стажа: -3296.76 в декрете , медиана зарплаты: 53829.13 в декрете\n",
      "Пропуски в стаже работы после заполнения: 0\n",
      "Пропуски в ежемесячном доходе после заполнения: 0\n",
      "Series([], Name: income_type, dtype: int64)\n"
     ]
    }
   ],
   "source": [
    "print('Пропуски в стаже работы до заполнения:', data['days_employed'].isna().sum())\n",
    "print('Пропуски в ежемесячном доходе до заполнения:', data['total_income'].isna().sum())\n",
    "\n",
    "for inctype in data['income_type'].unique():\n",
    "    #считаем медиану для определенного типа занятости\n",
    "    median_days_employed = data.loc[data['income_type'] == inctype,'days_employed'].median()\n",
    "    median_total_income = data.loc[data['income_type'] == inctype,'total_income'].median()\n",
    "    print('Медиана стажа: {:.2f}'.format(median_days_employed), inctype, ', медиана зарплаты: {:.2f}'.format(median_total_income), inctype)\n",
    "    #подставляем вместо пустых значений медиану    \n",
    "    data.loc[(data['days_employed'].isna()) & (data['income_type'] == inctype),'days_employed'] = median_days_employed\n",
    "    data.loc[(data['total_income'].isna()) & (data['income_type'] == inctype),'total_income'] = median_total_income\n",
    "\n",
    "print('Пропуски в стаже работы после заполнения:',data['days_employed'].isna().sum())\n",
    "print('Пропуски в ежемесячном доходе после заполнения:',data['total_income'].isna().sum())\n",
    "print(data[data['days_employed'].isnull()]['income_type'].value_counts())"
   ]
  },
  {
   "cell_type": "markdown",
   "metadata": {},
   "source": [
    "### Вывод"
   ]
  },
  {
   "cell_type": "markdown",
   "metadata": {},
   "source": [
    "Заметим значения, не отображающие действительность:  \n",
    "1) Стаж работы отрицательный (возможно стаж считался разностью начальной даты и конечной С=Н-К)  \n",
    "2) Медиана пенсионеров и безработных превышает 100 лет  (Скорее всего данные получались в других единицах измерения)"
   ]
  },
  {
   "cell_type": "markdown",
   "metadata": {},
   "source": [
    "# Замена типа данных"
   ]
  },
  {
   "cell_type": "markdown",
   "metadata": {},
   "source": [
    "Вещественные значения стажа и прибыли не несут информации и мешают визуальному восприятию, поэтому преобразуем данные из float64 в int64 и уберем отрицательные значения(возьмем по модулю) "
   ]
  },
  {
   "cell_type": "code",
   "execution_count": 7,
   "metadata": {},
   "outputs": [],
   "source": [
    "data['days_employed'] = data['days_employed'].astype(int) # используем метод astype для замены типа данных\n",
    "data['total_income'] = data['total_income'].astype(int)\n",
    "data['days_employed'] = data['days_employed'].apply(abs) #применяем к столбцу 'days_employed' метод abs(модуль)\n",
    "data['children'] = data['children'].apply(abs)"
   ]
  },
  {
   "cell_type": "markdown",
   "metadata": {},
   "source": [
    "Убедимся, что наши преобразование не нарушили медиану"
   ]
  },
  {
   "cell_type": "code",
   "execution_count": 8,
   "metadata": {
    "scrolled": true
   },
   "outputs": [
    {
     "name": "stdout",
     "output_type": "stream",
     "text": [
      "Медиана стажа: 1574 сотрудник , медиана зарплаты: 142594 сотрудник\n",
      "Медиана стажа: 365213 пенсионер , медиана зарплаты: 118514 пенсионер\n",
      "Медиана стажа: 1547 компаньон , медиана зарплаты: 172357 компаньон\n",
      "Медиана стажа: 2689 госслужащий , медиана зарплаты: 150447 госслужащий\n",
      "Медиана стажа: 366413 безработный , медиана зарплаты: 131339 безработный\n",
      "Медиана стажа: 520 предприниматель , медиана зарплаты: 499163 предприниматель\n",
      "Медиана стажа: 578 студент , медиана зарплаты: 98201 студент\n",
      "Медиана стажа: 3296 в декрете , медиана зарплаты: 53829 в декрете\n"
     ]
    }
   ],
   "source": [
    "for inctype in data['income_type'].unique():\n",
    "    #считаем медиану для определенного типа занятости\n",
    "    median_days_employed = data.loc[data['income_type']==inctype,'days_employed'].median()\n",
    "    median_total_income = data.loc[data['income_type']==inctype,'total_income'].median()\n",
    "    print('Медиана стажа: {:.0f}'.format(median_days_employed), inctype, ', медиана зарплаты: {:.0f}'.format(median_total_income), inctype)\n"
   ]
  },
  {
   "cell_type": "markdown",
   "metadata": {},
   "source": [
    "### Вывод"
   ]
  },
  {
   "cell_type": "markdown",
   "metadata": {},
   "source": [
    "Наши преобразования не повлияли на общую картину, и мы можем продолжить заниматься предобработкой"
   ]
  },
  {
   "cell_type": "markdown",
   "metadata": {},
   "source": [
    "### Обработка дубликатов"
   ]
  },
  {
   "cell_type": "code",
   "execution_count": 9,
   "metadata": {},
   "outputs": [
    {
     "name": "stdout",
     "output_type": "stream",
     "text": [
      "Найдено дупликатов: 54\n"
     ]
    }
   ],
   "source": [
    "print('Найдено дупликатов:',data.duplicated().sum())"
   ]
  },
  {
   "cell_type": "code",
   "execution_count": 10,
   "metadata": {},
   "outputs": [
    {
     "name": "stdout",
     "output_type": "stream",
     "text": [
      "Найдено дупликатов после удаления: 0\n"
     ]
    }
   ],
   "source": [
    "data=data.drop_duplicates().reset_index(drop=True)# используем метод drop_duplicates().reset_index(drop=True)\n",
    "print('Найдено дупликатов после удаления:',data.duplicated().sum())"
   ]
  },
  {
   "cell_type": "markdown",
   "metadata": {},
   "source": [
    "### Вывод"
   ]
  },
  {
   "cell_type": "markdown",
   "metadata": {},
   "source": [
    "Появление дупликатов может быть вызвано тем, что пользователь заполнил форму дважды, или отправка данных повторилась. Возможно, что некоторые строки повтаряются из-за заполнения пропусков, но это маленький процент, которым можно пренебречь."
   ]
  },
  {
   "cell_type": "markdown",
   "metadata": {},
   "source": [
    "### Лемматизация"
   ]
  },
  {
   "cell_type": "code",
   "execution_count": 11,
   "metadata": {
    "scrolled": true
   },
   "outputs": [
    {
     "name": "stdout",
     "output_type": "stream",
     "text": [
      "['высшее' 'среднее' 'Среднее' 'СРЕДНЕЕ' 'ВЫСШЕЕ' 'неоконченное высшее'\n",
      " 'начальное' 'Высшее' 'НЕОКОНЧЕННОЕ ВЫСШЕЕ' 'Неоконченное высшее'\n",
      " 'НАЧАЛЬНОЕ' 'Начальное' 'Ученая степень' 'УЧЕНАЯ СТЕПЕНЬ'\n",
      " 'ученая степень']\n"
     ]
    }
   ],
   "source": [
    "print(data['education'].unique())"
   ]
  },
  {
   "cell_type": "markdown",
   "metadata": {},
   "source": [
    "Приведем все к нижнему регистру"
   ]
  },
  {
   "cell_type": "code",
   "execution_count": 12,
   "metadata": {},
   "outputs": [
    {
     "name": "stdout",
     "output_type": "stream",
     "text": [
      "['высшее' 'среднее' 'неоконченное высшее' 'начальное' 'ученая степень']\n"
     ]
    }
   ],
   "source": [
    "data['education']=data['education'].str.lower()\n",
    "print(data['education'].unique())"
   ]
  },
  {
   "cell_type": "code",
   "execution_count": 13,
   "metadata": {},
   "outputs": [
    {
     "name": "stdout",
     "output_type": "stream",
     "text": [
      "Counter({' ': 96, 'покупка': 10, 'недвижимость': 10, 'автомобиль': 9, 'образование': 9, 'жилье': 7, 'с': 5, 'операция': 4, 'на': 4, 'свой': 4, 'свадьба': 3, 'строительство': 3, 'получение': 3, 'высокий': 3, 'дополнительный': 2, 'для': 2, 'коммерческий': 2, 'жилой': 2, 'подержать': 2, 'заниматься': 2, 'сделка': 2, 'приобретение': 1, 'сыграть': 1, 'проведение': 1, 'семья': 1, 'собственный': 1, 'со': 1, 'профильный': 1, 'сдача': 1, 'ремонт': 1, '\\n': 1})\n"
     ]
    }
   ],
   "source": [
    "# Получим наиболее популярные слова в столбце целей\n",
    "from nltk.stem import SnowballStemmer\n",
    "from pymystem3 import Mystem\n",
    "import numpy as np\n",
    "m = Mystem()\n",
    "russian_stemmer=SnowballStemmer('russian')\n",
    "data_puprose_unique=(data['purpose'].unique())\n",
    "myString = ' '.join(data_puprose_unique)\n",
    "myString=m.lemmatize(myString)\n",
    "from collections import Counter\n",
    "print(Counter(myString))\n"
   ]
  },
  {
   "cell_type": "markdown",
   "metadata": {},
   "source": [
    "Проверим, появились ли новые дупликаты."
   ]
  },
  {
   "cell_type": "code",
   "execution_count": 14,
   "metadata": {},
   "outputs": [
    {
     "name": "stdout",
     "output_type": "stream",
     "text": [
      "Найдено дупликатов: 17\n"
     ]
    }
   ],
   "source": [
    "print('Найдено дупликатов:',data.duplicated().sum())"
   ]
  },
  {
   "cell_type": "markdown",
   "metadata": {},
   "source": [
    "Появились новые дупликаты, уберем их."
   ]
  },
  {
   "cell_type": "code",
   "execution_count": 15,
   "metadata": {},
   "outputs": [
    {
     "name": "stdout",
     "output_type": "stream",
     "text": [
      "Найдено дупликатов после удаления: 0\n"
     ]
    }
   ],
   "source": [
    "data=data.drop_duplicates().reset_index(drop=True)# используем метод drop_duplicates().reset_index(drop=True)\n",
    "print('Найдено дупликатов после удаления:',data.duplicated().sum())"
   ]
  },
  {
   "cell_type": "markdown",
   "metadata": {},
   "source": [
    "### Вывод"
   ]
  },
  {
   "cell_type": "markdown",
   "metadata": {},
   "source": [
    "Мы привели все к нижнему регистру и выявили самые популярные слова в столбце 'purpose'. Его можно будет разделить на более удобные группы: 'недвижимость', 'автомобиль', 'образование', 'свадьба'"
   ]
  },
  {
   "cell_type": "markdown",
   "metadata": {},
   "source": [
    "### Категоризация данных"
   ]
  },
  {
   "cell_type": "markdown",
   "metadata": {},
   "source": [
    "В процессе предобработки можно было заметить, что можно выделить следующие словари:  \n",
    "1) образование  \n",
    "2) семейное положение  \n",
    "3) цель получения кредита\n",
    "\n"
   ]
  },
  {
   "cell_type": "code",
   "execution_count": 16,
   "metadata": {},
   "outputs": [
    {
     "name": "stdout",
     "output_type": "stream",
     "text": [
      "                                  total_income\n",
      "education_id education                        \n",
      "0            высшее                       5250\n",
      "1            среднее                     15172\n",
      "2            неоконченное высшее           744\n",
      "3            начальное                     282\n",
      "4            ученая степень                  6 \n",
      "\n",
      "                                        total_income\n",
      "family_status_id family_status                      \n",
      "0                женат / замужем               12339\n",
      "1                гражданский брак               4151\n",
      "2                вдовец / вдова                  959\n",
      "3                в разводе                      1195\n",
      "4                Не женат / не замужем          2810 \n",
      "\n",
      "                                                     total_income\n",
      "purpose_type purpose                                             \n",
      "автомобиль   автомобили                                       478\n",
      "             автомобиль                                       494\n",
      "             на покупку автомобиля                            471\n",
      "             на покупку подержанного автомобиля               478\n",
      "             на покупку своего автомобиля                     505\n",
      "             приобретение автомобиля                          461\n",
      "             свой автомобиль                                  478\n",
      "             сделка с автомобилем                             455\n",
      "             сделка с подержанным автомобилем                 486\n",
      "недвижимость жилье                                            646\n",
      "             недвижимость                                     633\n",
      "             операции с жильем                                652\n",
      "             операции с коммерческой недвижимостью            650\n",
      "             операции с недвижимостью                         675\n",
      "             операции со своей недвижимостью                  627\n",
      "             покупка жилой недвижимости                       606\n",
      "             покупка жилья                                    646\n",
      "             покупка жилья для сдачи                          651\n",
      "             покупка жилья для семьи                          638\n",
      "             покупка коммерческой недвижимости                661\n",
      "             покупка недвижимости                             621\n",
      "             покупка своего жилья                             620\n",
      "             ремонт жилью                                     607\n",
      "             строительство жилой недвижимости                 624\n",
      "             строительство недвижимости                       619\n",
      "             строительство собственной недвижимости           635\n",
      "образование  высшее образование                               452\n",
      "             дополнительное образование                       460\n",
      "             заняться высшим образованием                     496\n",
      "             заняться образованием                            408\n",
      "             образование                                      447\n",
      "             получение высшего образования                    426\n",
      "             получение дополнительного образования            446\n",
      "             получение образования                            442\n",
      "             профильное образование                           436\n",
      "свадьба      на проведение свадьбы                            768\n",
      "             свадьба                                          791\n",
      "             сыграть свадьбу                                  765\n"
     ]
    }
   ],
   "source": [
    "data_education_dict=data.groupby(['education_id','education']).agg({'total_income':'count'})\n",
    "print(data_education_dict,'\\n')\n",
    "data_family_dict=data.groupby(['family_status_id','family_status']).agg({'total_income':'count'})\n",
    "print(data_family_dict,'\\n')\n",
    "\n",
    "from nltk.stem import SnowballStemmer\n",
    "from pymystem3 import Mystem\n",
    "import numpy as np\n",
    "m = Mystem()\n",
    "russian_stemmer=SnowballStemmer('russian')\n",
    "# Функция, получающая строку данных и возвращающая категорию цели кредита.\n",
    "def lemm(row):\n",
    "    purp = row['purpose']\n",
    "    lemmas = m.lemmatize(purp)\n",
    "    if 'жилье' in lemmas:\n",
    "        return('недвижимость')\n",
    "    elif 'недвижимость' in lemmas:\n",
    "        return('недвижимость')\n",
    "    elif 'автомобиль' in lemmas:\n",
    "        return 'автомобиль'\n",
    "    elif 'свадьба' in lemmas: \n",
    "        return 'свадьба'\n",
    "    elif 'образование' in lemmas: \n",
    "        return 'образование'\n",
    "    \n",
    "data['purpose_type']=data.apply(lemm,axis=1)\n",
    "data_purpose_dict=data.groupby(['purpose_type','purpose']).agg({'total_income':'count'})\n",
    "print(data_purpose_dict)"
   ]
  },
  {
   "cell_type": "markdown",
   "metadata": {},
   "source": [
    "### Вывод"
   ]
  },
  {
   "cell_type": "markdown",
   "metadata": {},
   "source": [
    "Больше всего кредиты берут люди в браке со средним образованием."
   ]
  },
  {
   "cell_type": "markdown",
   "metadata": {},
   "source": [
    "### Шаг 3. Ответы на вопросы"
   ]
  },
  {
   "cell_type": "markdown",
   "metadata": {},
   "source": [
    "- Есть ли зависимость между наличием детей и возвратом кредита в срок?"
   ]
  },
  {
   "cell_type": "code",
   "execution_count": 17,
   "metadata": {},
   "outputs": [
    {
     "data": {
      "text/html": [
       "<style  type=\"text/css\" >\n",
       "</style><table id=\"T_78d0fe96_da1e_11ea_bc0a_02420a399cf4\" ><thead>    <tr>        <th class=\"blank level0\" ></th>        <th class=\"col_heading level0 col0\" >%невозврата</th>        <th class=\"col_heading level0 col1\" >количество заемщиков</th>    </tr>    <tr>        <th class=\"index_name level0\" >children</th>        <th class=\"blank\" ></th>        <th class=\"blank\" ></th>    </tr></thead><tbody>\n",
       "                <tr>\n",
       "                        <th id=\"T_78d0fe96_da1e_11ea_bc0a_02420a399cf4level0_row0\" class=\"row_heading level0 row0\" >0</th>\n",
       "                        <td id=\"T_78d0fe96_da1e_11ea_bc0a_02420a399cf4row0_col0\" class=\"data row0 col0\" >7.54%</td>\n",
       "                        <td id=\"T_78d0fe96_da1e_11ea_bc0a_02420a399cf4row0_col1\" class=\"data row0 col1\" >14091</td>\n",
       "            </tr>\n",
       "            <tr>\n",
       "                        <th id=\"T_78d0fe96_da1e_11ea_bc0a_02420a399cf4level0_row1\" class=\"row_heading level0 row1\" >1</th>\n",
       "                        <td id=\"T_78d0fe96_da1e_11ea_bc0a_02420a399cf4row1_col0\" class=\"data row1 col0\" >9.17%</td>\n",
       "                        <td id=\"T_78d0fe96_da1e_11ea_bc0a_02420a399cf4row1_col1\" class=\"data row1 col1\" >4855</td>\n",
       "            </tr>\n",
       "            <tr>\n",
       "                        <th id=\"T_78d0fe96_da1e_11ea_bc0a_02420a399cf4level0_row2\" class=\"row_heading level0 row2\" >2</th>\n",
       "                        <td id=\"T_78d0fe96_da1e_11ea_bc0a_02420a399cf4row2_col0\" class=\"data row2 col0\" >9.45%</td>\n",
       "                        <td id=\"T_78d0fe96_da1e_11ea_bc0a_02420a399cf4row2_col1\" class=\"data row2 col1\" >2052</td>\n",
       "            </tr>\n",
       "            <tr>\n",
       "                        <th id=\"T_78d0fe96_da1e_11ea_bc0a_02420a399cf4level0_row3\" class=\"row_heading level0 row3\" >3</th>\n",
       "                        <td id=\"T_78d0fe96_da1e_11ea_bc0a_02420a399cf4row3_col0\" class=\"data row3 col0\" >8.18%</td>\n",
       "                        <td id=\"T_78d0fe96_da1e_11ea_bc0a_02420a399cf4row3_col1\" class=\"data row3 col1\" >330</td>\n",
       "            </tr>\n",
       "            <tr>\n",
       "                        <th id=\"T_78d0fe96_da1e_11ea_bc0a_02420a399cf4level0_row4\" class=\"row_heading level0 row4\" >4</th>\n",
       "                        <td id=\"T_78d0fe96_da1e_11ea_bc0a_02420a399cf4row4_col0\" class=\"data row4 col0\" >9.76%</td>\n",
       "                        <td id=\"T_78d0fe96_da1e_11ea_bc0a_02420a399cf4row4_col1\" class=\"data row4 col1\" >41</td>\n",
       "            </tr>\n",
       "            <tr>\n",
       "                        <th id=\"T_78d0fe96_da1e_11ea_bc0a_02420a399cf4level0_row5\" class=\"row_heading level0 row5\" >5</th>\n",
       "                        <td id=\"T_78d0fe96_da1e_11ea_bc0a_02420a399cf4row5_col0\" class=\"data row5 col0\" >0.00%</td>\n",
       "                        <td id=\"T_78d0fe96_da1e_11ea_bc0a_02420a399cf4row5_col1\" class=\"data row5 col1\" >9</td>\n",
       "            </tr>\n",
       "            <tr>\n",
       "                        <th id=\"T_78d0fe96_da1e_11ea_bc0a_02420a399cf4level0_row6\" class=\"row_heading level0 row6\" >20</th>\n",
       "                        <td id=\"T_78d0fe96_da1e_11ea_bc0a_02420a399cf4row6_col0\" class=\"data row6 col0\" >10.53%</td>\n",
       "                        <td id=\"T_78d0fe96_da1e_11ea_bc0a_02420a399cf4row6_col1\" class=\"data row6 col1\" >76</td>\n",
       "            </tr>\n",
       "    </tbody></table>"
      ],
      "text/plain": [
       "<pandas.io.formats.style.Styler at 0x7fa4fb6a9a50>"
      ]
     },
     "execution_count": 17,
     "metadata": {},
     "output_type": "execute_result"
    }
   ],
   "source": [
    "report_children=data.groupby('children').agg({'debt':['mean','count']})\n",
    "report_children.columns=['%невозврата','количество заемщиков']\n",
    "report_children.style.format({'%невозврата':'{:.2%}'})\n"
   ]
  },
  {
   "cell_type": "markdown",
   "metadata": {},
   "source": [
    "20 детей выглядит неправдоподобно. Этим артефактом обладают 76 человек из 20 тыс, следует их убрать."
   ]
  },
  {
   "cell_type": "code",
   "execution_count": 18,
   "metadata": {},
   "outputs": [
    {
     "data": {
      "text/html": [
       "<style  type=\"text/css\" >\n",
       "</style><table id=\"T_78d6ba0c_da1e_11ea_bc0a_02420a399cf4\" ><thead>    <tr>        <th class=\"blank level0\" ></th>        <th class=\"col_heading level0 col0\" >%невозврата</th>        <th class=\"col_heading level0 col1\" >количество заемщиков</th>    </tr>    <tr>        <th class=\"index_name level0\" >children</th>        <th class=\"blank\" ></th>        <th class=\"blank\" ></th>    </tr></thead><tbody>\n",
       "                <tr>\n",
       "                        <th id=\"T_78d6ba0c_da1e_11ea_bc0a_02420a399cf4level0_row0\" class=\"row_heading level0 row0\" >0</th>\n",
       "                        <td id=\"T_78d6ba0c_da1e_11ea_bc0a_02420a399cf4row0_col0\" class=\"data row0 col0\" >7.54%</td>\n",
       "                        <td id=\"T_78d6ba0c_da1e_11ea_bc0a_02420a399cf4row0_col1\" class=\"data row0 col1\" >14091</td>\n",
       "            </tr>\n",
       "            <tr>\n",
       "                        <th id=\"T_78d6ba0c_da1e_11ea_bc0a_02420a399cf4level0_row1\" class=\"row_heading level0 row1\" >1</th>\n",
       "                        <td id=\"T_78d6ba0c_da1e_11ea_bc0a_02420a399cf4row1_col0\" class=\"data row1 col0\" >9.17%</td>\n",
       "                        <td id=\"T_78d6ba0c_da1e_11ea_bc0a_02420a399cf4row1_col1\" class=\"data row1 col1\" >4855</td>\n",
       "            </tr>\n",
       "            <tr>\n",
       "                        <th id=\"T_78d6ba0c_da1e_11ea_bc0a_02420a399cf4level0_row2\" class=\"row_heading level0 row2\" >2</th>\n",
       "                        <td id=\"T_78d6ba0c_da1e_11ea_bc0a_02420a399cf4row2_col0\" class=\"data row2 col0\" >9.45%</td>\n",
       "                        <td id=\"T_78d6ba0c_da1e_11ea_bc0a_02420a399cf4row2_col1\" class=\"data row2 col1\" >2052</td>\n",
       "            </tr>\n",
       "            <tr>\n",
       "                        <th id=\"T_78d6ba0c_da1e_11ea_bc0a_02420a399cf4level0_row3\" class=\"row_heading level0 row3\" >3</th>\n",
       "                        <td id=\"T_78d6ba0c_da1e_11ea_bc0a_02420a399cf4row3_col0\" class=\"data row3 col0\" >8.18%</td>\n",
       "                        <td id=\"T_78d6ba0c_da1e_11ea_bc0a_02420a399cf4row3_col1\" class=\"data row3 col1\" >330</td>\n",
       "            </tr>\n",
       "            <tr>\n",
       "                        <th id=\"T_78d6ba0c_da1e_11ea_bc0a_02420a399cf4level0_row4\" class=\"row_heading level0 row4\" >4</th>\n",
       "                        <td id=\"T_78d6ba0c_da1e_11ea_bc0a_02420a399cf4row4_col0\" class=\"data row4 col0\" >9.76%</td>\n",
       "                        <td id=\"T_78d6ba0c_da1e_11ea_bc0a_02420a399cf4row4_col1\" class=\"data row4 col1\" >41</td>\n",
       "            </tr>\n",
       "            <tr>\n",
       "                        <th id=\"T_78d6ba0c_da1e_11ea_bc0a_02420a399cf4level0_row5\" class=\"row_heading level0 row5\" >5</th>\n",
       "                        <td id=\"T_78d6ba0c_da1e_11ea_bc0a_02420a399cf4row5_col0\" class=\"data row5 col0\" >0.00%</td>\n",
       "                        <td id=\"T_78d6ba0c_da1e_11ea_bc0a_02420a399cf4row5_col1\" class=\"data row5 col1\" >9</td>\n",
       "            </tr>\n",
       "    </tbody></table>"
      ],
      "text/plain": [
       "<pandas.io.formats.style.Styler at 0x7fa51d0e4990>"
      ]
     },
     "execution_count": 18,
     "metadata": {},
     "output_type": "execute_result"
    }
   ],
   "source": [
    "data=data.loc[data['children']!=20]\n",
    "report_children=data.groupby('children').agg({'debt':['mean','count']})\n",
    "report_children.columns=['%невозврата','количество заемщиков']\n",
    "report_children.style.format({'%невозврата':'{:.2%}'})"
   ]
  },
  {
   "cell_type": "markdown",
   "metadata": {},
   "source": [
    "### Вывод"
   ]
  },
  {
   "cell_type": "markdown",
   "metadata": {},
   "source": [
    "Процент невозврата находится в диапазоне от 7 до 10 (5 детей не учитываем тк малое количество заемщиков). Заметим, что бездетные имеют наименьший процент невозврата."
   ]
  },
  {
   "cell_type": "markdown",
   "metadata": {},
   "source": [
    "- Есть ли зависимость между семейным положением и возвратом кредита в срок?"
   ]
  },
  {
   "cell_type": "code",
   "execution_count": 19,
   "metadata": {},
   "outputs": [
    {
     "data": {
      "text/html": [
       "<style  type=\"text/css\" >\n",
       "</style><table id=\"T_78dc809a_da1e_11ea_bc0a_02420a399cf4\" ><thead>    <tr>        <th class=\"blank level0\" ></th>        <th class=\"col_heading level0 col0\" >%невозврата</th>        <th class=\"col_heading level0 col1\" >количество заемщиков</th>    </tr>    <tr>        <th class=\"index_name level0\" >family_status</th>        <th class=\"blank\" ></th>        <th class=\"blank\" ></th>    </tr></thead><tbody>\n",
       "                <tr>\n",
       "                        <th id=\"T_78dc809a_da1e_11ea_bc0a_02420a399cf4level0_row0\" class=\"row_heading level0 row0\" >женат / замужем</th>\n",
       "                        <td id=\"T_78dc809a_da1e_11ea_bc0a_02420a399cf4row0_col0\" class=\"data row0 col0\" >7.55%</td>\n",
       "                        <td id=\"T_78dc809a_da1e_11ea_bc0a_02420a399cf4row0_col1\" class=\"data row0 col1\" >12290</td>\n",
       "            </tr>\n",
       "            <tr>\n",
       "                        <th id=\"T_78dc809a_da1e_11ea_bc0a_02420a399cf4level0_row1\" class=\"row_heading level0 row1\" >гражданский брак</th>\n",
       "                        <td id=\"T_78dc809a_da1e_11ea_bc0a_02420a399cf4row1_col0\" class=\"data row1 col0\" >9.30%</td>\n",
       "                        <td id=\"T_78dc809a_da1e_11ea_bc0a_02420a399cf4row1_col1\" class=\"data row1 col1\" >4139</td>\n",
       "            </tr>\n",
       "            <tr>\n",
       "                        <th id=\"T_78dc809a_da1e_11ea_bc0a_02420a399cf4level0_row2\" class=\"row_heading level0 row2\" >Не женат / не замужем</th>\n",
       "                        <td id=\"T_78dc809a_da1e_11ea_bc0a_02420a399cf4row2_col0\" class=\"data row2 col0\" >9.75%</td>\n",
       "                        <td id=\"T_78dc809a_da1e_11ea_bc0a_02420a399cf4row2_col1\" class=\"data row2 col1\" >2801</td>\n",
       "            </tr>\n",
       "            <tr>\n",
       "                        <th id=\"T_78dc809a_da1e_11ea_bc0a_02420a399cf4level0_row3\" class=\"row_heading level0 row3\" >в разводе</th>\n",
       "                        <td id=\"T_78dc809a_da1e_11ea_bc0a_02420a399cf4row3_col0\" class=\"data row3 col0\" >7.04%</td>\n",
       "                        <td id=\"T_78dc809a_da1e_11ea_bc0a_02420a399cf4row3_col1\" class=\"data row3 col1\" >1193</td>\n",
       "            </tr>\n",
       "            <tr>\n",
       "                        <th id=\"T_78dc809a_da1e_11ea_bc0a_02420a399cf4level0_row4\" class=\"row_heading level0 row4\" >вдовец / вдова</th>\n",
       "                        <td id=\"T_78dc809a_da1e_11ea_bc0a_02420a399cf4row4_col0\" class=\"data row4 col0\" >6.60%</td>\n",
       "                        <td id=\"T_78dc809a_da1e_11ea_bc0a_02420a399cf4row4_col1\" class=\"data row4 col1\" >955</td>\n",
       "            </tr>\n",
       "    </tbody></table>"
      ],
      "text/plain": [
       "<pandas.io.formats.style.Styler at 0x7fa53b449690>"
      ]
     },
     "execution_count": 19,
     "metadata": {},
     "output_type": "execute_result"
    }
   ],
   "source": [
    "report_family_status= data.pivot_table(index=['family_status'],values=['debt'],aggfunc=['mean','count'])\n",
    "report_family_status.columns=['%невозврата','количество заемщиков']\n",
    "report_family_status=report_family_status.sort_values(by='количество заемщиков',ascending=False)\n",
    "report_family_status.style.format({'%невозврата':'{:.2%}'})"
   ]
  },
  {
   "cell_type": "markdown",
   "metadata": {},
   "source": [
    "### Вывод"
   ]
  },
  {
   "cell_type": "markdown",
   "metadata": {},
   "source": [
    "Люди, не вступавшие в брак, относятся к возвращению кредита халатнее. Вдовец / вдова имеют наименьший процент невозврата."
   ]
  },
  {
   "cell_type": "markdown",
   "metadata": {},
   "source": [
    "- Есть ли зависимость между уровнем дохода и возвратом кредита в срок?"
   ]
  },
  {
   "cell_type": "code",
   "execution_count": 46,
   "metadata": {},
   "outputs": [
    {
     "name": "stdout",
     "output_type": "stream",
     "text": [
      "Самая большая зарплата 2265604\n",
      "Среднее значение зарплат:  165316\n",
      "Медиана зарплат:  142594\n"
     ]
    },
    {
     "data": {
      "text/html": [
       "<style  type=\"text/css\" >\n",
       "</style><table id=\"T_c65b9bec_da20_11ea_bc0a_02420a399cf4\" ><thead>    <tr>        <th class=\"blank level0\" ></th>        <th class=\"col_heading level0 col0\" >%невозврата</th>        <th class=\"col_heading level0 col1\" >количество заемщиков</th>    </tr>    <tr>        <th class=\"index_name level0\" >income_level</th>        <th class=\"blank\" ></th>        <th class=\"blank\" ></th>    </tr></thead><tbody>\n",
       "                <tr>\n",
       "                        <th id=\"T_c65b9bec_da20_11ea_bc0a_02420a399cf4level0_row0\" class=\"row_heading level0 row0\" >71297<142594тыс</th>\n",
       "                        <td id=\"T_c65b9bec_da20_11ea_bc0a_02420a399cf4row0_col0\" class=\"data row0 col0\" >8.64%</td>\n",
       "                        <td id=\"T_c65b9bec_da20_11ea_bc0a_02420a399cf4row0_col1\" class=\"data row0 col1\" >9232</td>\n",
       "            </tr>\n",
       "            <tr>\n",
       "                        <th id=\"T_c65b9bec_da20_11ea_bc0a_02420a399cf4level0_row1\" class=\"row_heading level0 row1\" ><71297тыс</th>\n",
       "                        <td id=\"T_c65b9bec_da20_11ea_bc0a_02420a399cf4row1_col0\" class=\"data row1 col0\" >6.93%</td>\n",
       "                        <td id=\"T_c65b9bec_da20_11ea_bc0a_02420a399cf4row1_col1\" class=\"data row1 col1\" >1574</td>\n",
       "            </tr>\n",
       "            <tr>\n",
       "                        <th id=\"T_c65b9bec_da20_11ea_bc0a_02420a399cf4level0_row2\" class=\"row_heading level0 row2\" >>142594тыс</th>\n",
       "                        <td id=\"T_c65b9bec_da20_11ea_bc0a_02420a399cf4row2_col0\" class=\"data row2 col0\" >7.81%</td>\n",
       "                        <td id=\"T_c65b9bec_da20_11ea_bc0a_02420a399cf4row2_col1\" class=\"data row2 col1\" >10572</td>\n",
       "            </tr>\n",
       "    </tbody></table>"
      ],
      "text/plain": [
       "<pandas.io.formats.style.Styler at 0x7fa53acdf910>"
      ]
     },
     "execution_count": 46,
     "metadata": {},
     "output_type": "execute_result"
    }
   ],
   "source": [
    "income_mean=data['total_income'].mean()\n",
    "income_median=data['total_income'].median()\n",
    "income_max=data['total_income'].max()\n",
    "print('Самая большая зарплата',income_max)\n",
    "print('Среднее значение зарплат: ',int(income_mean))\n",
    "print('Медиана зарплат: ',int(income_median))\n",
    "data['income_level']=data['total_income']\n",
    "data.loc[data['total_income']<=income_median/2,'income_level']=('<'+str(int(income_median/2))+'тыс')\n",
    "data.loc[(data['total_income']>income_median/2) & (data['total_income']<=income_median),'income_level']=(str(int(income_median/2))+'<'+str(int(income_median))+'тыс')\n",
    "data.loc[(data['total_income']>income_median),'income_level']=('>'+str(int(income_median))+'тыс')\n",
    "\n",
    "#data.loc[(data['days_employed'].isna()) & (data['income_type'] == inctype),'days_employed'] = median_days_employed\n",
    "\n",
    "report_income_level=data.groupby('income_level').agg({'debt':['mean','count']})\n",
    "report_income_level.columns=['%невозврата','количество заемщиков']\n",
    "report_income_level.style.format({'%невозврата':'{:.2%}'})"
   ]
  },
  {
   "cell_type": "markdown",
   "metadata": {},
   "source": [
    "### Вывод"
   ]
  },
  {
   "cell_type": "markdown",
   "metadata": {},
   "source": [
    "Удивительно, но самыми ответственными являются люди, с уровнем дохода <71 тыс рублей. После них идут люди с зарплатой >142 тыс, которым легче возвращать кредит. \t"
   ]
  },
  {
   "cell_type": "markdown",
   "metadata": {},
   "source": [
    "- Как разные цели кредита влияют на его возврат в срок?"
   ]
  },
  {
   "cell_type": "code",
   "execution_count": 21,
   "metadata": {},
   "outputs": [
    {
     "data": {
      "text/html": [
       "<style  type=\"text/css\" >\n",
       "</style><table id=\"T_78eb39a0_da1e_11ea_bc0a_02420a399cf4\" ><thead>    <tr>        <th class=\"blank level0\" ></th>        <th class=\"col_heading level0 col0\" >%невозврата</th>        <th class=\"col_heading level0 col1\" >количество заемщиков</th>    </tr>    <tr>        <th class=\"index_name level0\" >purpose_type</th>        <th class=\"blank\" ></th>        <th class=\"blank\" ></th>    </tr></thead><tbody>\n",
       "                <tr>\n",
       "                        <th id=\"T_78eb39a0_da1e_11ea_bc0a_02420a399cf4level0_row0\" class=\"row_heading level0 row0\" >автомобиль</th>\n",
       "                        <td id=\"T_78eb39a0_da1e_11ea_bc0a_02420a399cf4row0_col0\" class=\"data row0 col0\" >9.35%</td>\n",
       "                        <td id=\"T_78eb39a0_da1e_11ea_bc0a_02420a399cf4row0_col1\" class=\"data row0 col1\" >4290</td>\n",
       "            </tr>\n",
       "            <tr>\n",
       "                        <th id=\"T_78eb39a0_da1e_11ea_bc0a_02420a399cf4level0_row1\" class=\"row_heading level0 row1\" >недвижимость</th>\n",
       "                        <td id=\"T_78eb39a0_da1e_11ea_bc0a_02420a399cf4row1_col0\" class=\"data row1 col0\" >7.24%</td>\n",
       "                        <td id=\"T_78eb39a0_da1e_11ea_bc0a_02420a399cf4row1_col1\" class=\"data row1 col1\" >10775</td>\n",
       "            </tr>\n",
       "            <tr>\n",
       "                        <th id=\"T_78eb39a0_da1e_11ea_bc0a_02420a399cf4level0_row2\" class=\"row_heading level0 row2\" >образование</th>\n",
       "                        <td id=\"T_78eb39a0_da1e_11ea_bc0a_02420a399cf4row2_col0\" class=\"data row2 col0\" >9.23%</td>\n",
       "                        <td id=\"T_78eb39a0_da1e_11ea_bc0a_02420a399cf4row2_col1\" class=\"data row2 col1\" >3998</td>\n",
       "            </tr>\n",
       "            <tr>\n",
       "                        <th id=\"T_78eb39a0_da1e_11ea_bc0a_02420a399cf4level0_row3\" class=\"row_heading level0 row3\" >свадьба</th>\n",
       "                        <td id=\"T_78eb39a0_da1e_11ea_bc0a_02420a399cf4row3_col0\" class=\"data row3 col0\" >7.90%</td>\n",
       "                        <td id=\"T_78eb39a0_da1e_11ea_bc0a_02420a399cf4row3_col1\" class=\"data row3 col1\" >2315</td>\n",
       "            </tr>\n",
       "    </tbody></table>"
      ],
      "text/plain": [
       "<pandas.io.formats.style.Styler at 0x7fa53b6770d0>"
      ]
     },
     "execution_count": 21,
     "metadata": {},
     "output_type": "execute_result"
    }
   ],
   "source": [
    "report_purpose_type=data.groupby('purpose_type').agg({'debt':['mean','count']})\n",
    "report_purpose_type.columns=['%невозврата','количество заемщиков']\n",
    "report_purpose_type.style.format({'%невозврата':'{:.2%}'})"
   ]
  },
  {
   "cell_type": "markdown",
   "metadata": {},
   "source": [
    "### Вывод"
   ]
  },
  {
   "cell_type": "markdown",
   "metadata": {},
   "source": [
    "Заемщики, берущие кредит ради недвижимости, подходят к возвращению долга ответственнее. Автомоюиль является наиболее эмоциональой покупкой, поэтому и возвращают его неохотнее всего."
   ]
  },
  {
   "cell_type": "markdown",
   "metadata": {},
   "source": [
    "### Шаг 4. Общий вывод"
   ]
  },
  {
   "cell_type": "code",
   "execution_count": 49,
   "metadata": {},
   "outputs": [
    {
     "data": {
      "text/html": [
       "<style  type=\"text/css\" >\n",
       "</style><table id=\"T_16309fe6_da21_11ea_bc0a_02420a399cf4\" ><thead>    <tr>        <th class=\"blank level0\" ></th>        <th class=\"col_heading level0 col0\" >%невозврата</th>        <th class=\"col_heading level0 col1\" >количество заемщиков</th>    </tr>    <tr>        <th class=\"index_name level0\" >purpose_type</th>        <th class=\"blank\" ></th>        <th class=\"blank\" ></th>    </tr></thead><tbody>\n",
       "                <tr>\n",
       "                        <th id=\"T_16309fe6_da21_11ea_bc0a_02420a399cf4level0_row0\" class=\"row_heading level0 row0\" >автомобиль</th>\n",
       "                        <td id=\"T_16309fe6_da21_11ea_bc0a_02420a399cf4row0_col0\" class=\"data row0 col0\" >9.35%</td>\n",
       "                        <td id=\"T_16309fe6_da21_11ea_bc0a_02420a399cf4row0_col1\" class=\"data row0 col1\" >4290</td>\n",
       "            </tr>\n",
       "            <tr>\n",
       "                        <th id=\"T_16309fe6_da21_11ea_bc0a_02420a399cf4level0_row1\" class=\"row_heading level0 row1\" >недвижимость</th>\n",
       "                        <td id=\"T_16309fe6_da21_11ea_bc0a_02420a399cf4row1_col0\" class=\"data row1 col0\" >7.24%</td>\n",
       "                        <td id=\"T_16309fe6_da21_11ea_bc0a_02420a399cf4row1_col1\" class=\"data row1 col1\" >10775</td>\n",
       "            </tr>\n",
       "            <tr>\n",
       "                        <th id=\"T_16309fe6_da21_11ea_bc0a_02420a399cf4level0_row2\" class=\"row_heading level0 row2\" >образование</th>\n",
       "                        <td id=\"T_16309fe6_da21_11ea_bc0a_02420a399cf4row2_col0\" class=\"data row2 col0\" >9.23%</td>\n",
       "                        <td id=\"T_16309fe6_da21_11ea_bc0a_02420a399cf4row2_col1\" class=\"data row2 col1\" >3998</td>\n",
       "            </tr>\n",
       "            <tr>\n",
       "                        <th id=\"T_16309fe6_da21_11ea_bc0a_02420a399cf4level0_row3\" class=\"row_heading level0 row3\" >свадьба</th>\n",
       "                        <td id=\"T_16309fe6_da21_11ea_bc0a_02420a399cf4row3_col0\" class=\"data row3 col0\" >7.90%</td>\n",
       "                        <td id=\"T_16309fe6_da21_11ea_bc0a_02420a399cf4row3_col1\" class=\"data row3 col1\" >2315</td>\n",
       "            </tr>\n",
       "    </tbody></table>"
      ],
      "text/plain": [
       "<pandas.io.formats.style.Styler at 0x7fa53acada90>"
      ]
     },
     "execution_count": 49,
     "metadata": {},
     "output_type": "execute_result"
    }
   ],
   "source": [
    "report_purpose_type.style.format({'%невозврата':'{:.2%}'})\n"
   ]
  },
  {
   "cell_type": "code",
   "execution_count": 50,
   "metadata": {},
   "outputs": [
    {
     "data": {
      "text/html": [
       "<style  type=\"text/css\" >\n",
       "</style><table id=\"T_1681837a_da21_11ea_bc0a_02420a399cf4\" ><thead>    <tr>        <th class=\"blank level0\" ></th>        <th class=\"col_heading level0 col0\" >%невозврата</th>        <th class=\"col_heading level0 col1\" >количество заемщиков</th>    </tr>    <tr>        <th class=\"index_name level0\" >income_level</th>        <th class=\"blank\" ></th>        <th class=\"blank\" ></th>    </tr></thead><tbody>\n",
       "                <tr>\n",
       "                        <th id=\"T_1681837a_da21_11ea_bc0a_02420a399cf4level0_row0\" class=\"row_heading level0 row0\" >71297<142594тыс</th>\n",
       "                        <td id=\"T_1681837a_da21_11ea_bc0a_02420a399cf4row0_col0\" class=\"data row0 col0\" >8.64%</td>\n",
       "                        <td id=\"T_1681837a_da21_11ea_bc0a_02420a399cf4row0_col1\" class=\"data row0 col1\" >9232</td>\n",
       "            </tr>\n",
       "            <tr>\n",
       "                        <th id=\"T_1681837a_da21_11ea_bc0a_02420a399cf4level0_row1\" class=\"row_heading level0 row1\" ><71297тыс</th>\n",
       "                        <td id=\"T_1681837a_da21_11ea_bc0a_02420a399cf4row1_col0\" class=\"data row1 col0\" >6.93%</td>\n",
       "                        <td id=\"T_1681837a_da21_11ea_bc0a_02420a399cf4row1_col1\" class=\"data row1 col1\" >1574</td>\n",
       "            </tr>\n",
       "            <tr>\n",
       "                        <th id=\"T_1681837a_da21_11ea_bc0a_02420a399cf4level0_row2\" class=\"row_heading level0 row2\" >>142594тыс</th>\n",
       "                        <td id=\"T_1681837a_da21_11ea_bc0a_02420a399cf4row2_col0\" class=\"data row2 col0\" >7.81%</td>\n",
       "                        <td id=\"T_1681837a_da21_11ea_bc0a_02420a399cf4row2_col1\" class=\"data row2 col1\" >10572</td>\n",
       "            </tr>\n",
       "    </tbody></table>"
      ],
      "text/plain": [
       "<pandas.io.formats.style.Styler at 0x7fa53acad610>"
      ]
     },
     "execution_count": 50,
     "metadata": {},
     "output_type": "execute_result"
    }
   ],
   "source": [
    "report_income_level.style.format({'%невозврата':'{:.2%}'})"
   ]
  },
  {
   "cell_type": "code",
   "execution_count": 51,
   "metadata": {},
   "outputs": [
    {
     "data": {
      "text/html": [
       "<style  type=\"text/css\" >\n",
       "</style><table id=\"T_16e8866a_da21_11ea_bc0a_02420a399cf4\" ><thead>    <tr>        <th class=\"blank level0\" ></th>        <th class=\"col_heading level0 col0\" >%невозврата</th>        <th class=\"col_heading level0 col1\" >количество заемщиков</th>    </tr>    <tr>        <th class=\"index_name level0\" >family_status</th>        <th class=\"blank\" ></th>        <th class=\"blank\" ></th>    </tr></thead><tbody>\n",
       "                <tr>\n",
       "                        <th id=\"T_16e8866a_da21_11ea_bc0a_02420a399cf4level0_row0\" class=\"row_heading level0 row0\" >женат / замужем</th>\n",
       "                        <td id=\"T_16e8866a_da21_11ea_bc0a_02420a399cf4row0_col0\" class=\"data row0 col0\" >7.55%</td>\n",
       "                        <td id=\"T_16e8866a_da21_11ea_bc0a_02420a399cf4row0_col1\" class=\"data row0 col1\" >12290</td>\n",
       "            </tr>\n",
       "            <tr>\n",
       "                        <th id=\"T_16e8866a_da21_11ea_bc0a_02420a399cf4level0_row1\" class=\"row_heading level0 row1\" >гражданский брак</th>\n",
       "                        <td id=\"T_16e8866a_da21_11ea_bc0a_02420a399cf4row1_col0\" class=\"data row1 col0\" >9.30%</td>\n",
       "                        <td id=\"T_16e8866a_da21_11ea_bc0a_02420a399cf4row1_col1\" class=\"data row1 col1\" >4139</td>\n",
       "            </tr>\n",
       "            <tr>\n",
       "                        <th id=\"T_16e8866a_da21_11ea_bc0a_02420a399cf4level0_row2\" class=\"row_heading level0 row2\" >Не женат / не замужем</th>\n",
       "                        <td id=\"T_16e8866a_da21_11ea_bc0a_02420a399cf4row2_col0\" class=\"data row2 col0\" >9.75%</td>\n",
       "                        <td id=\"T_16e8866a_da21_11ea_bc0a_02420a399cf4row2_col1\" class=\"data row2 col1\" >2801</td>\n",
       "            </tr>\n",
       "            <tr>\n",
       "                        <th id=\"T_16e8866a_da21_11ea_bc0a_02420a399cf4level0_row3\" class=\"row_heading level0 row3\" >в разводе</th>\n",
       "                        <td id=\"T_16e8866a_da21_11ea_bc0a_02420a399cf4row3_col0\" class=\"data row3 col0\" >7.04%</td>\n",
       "                        <td id=\"T_16e8866a_da21_11ea_bc0a_02420a399cf4row3_col1\" class=\"data row3 col1\" >1193</td>\n",
       "            </tr>\n",
       "            <tr>\n",
       "                        <th id=\"T_16e8866a_da21_11ea_bc0a_02420a399cf4level0_row4\" class=\"row_heading level0 row4\" >вдовец / вдова</th>\n",
       "                        <td id=\"T_16e8866a_da21_11ea_bc0a_02420a399cf4row4_col0\" class=\"data row4 col0\" >6.60%</td>\n",
       "                        <td id=\"T_16e8866a_da21_11ea_bc0a_02420a399cf4row4_col1\" class=\"data row4 col1\" >955</td>\n",
       "            </tr>\n",
       "    </tbody></table>"
      ],
      "text/plain": [
       "<pandas.io.formats.style.Styler at 0x7fa53acd3f50>"
      ]
     },
     "execution_count": 51,
     "metadata": {},
     "output_type": "execute_result"
    }
   ],
   "source": [
    "report_family_status.style.format({'%невозврата':'{:.2%}'})"
   ]
  },
  {
   "cell_type": "markdown",
   "metadata": {},
   "source": [
    "Самыми ответственными для возвращения кредита являются бездетные пары(как раз на старте отношений зп <71 тыс), берущие кредит для покупки новой недвижимости. Самыми рискованными клиентами являются люди, находящиеся не в официальном браке, с зарплатой 71 < 142 тыс, которые берут кредит на эмоциональные покупки(автомобиль)."
   ]
  }
 ],
 "metadata": {
  "kernelspec": {
   "display_name": "Python 3",
   "language": "python",
   "name": "python3"
  },
  "language_info": {
   "codemirror_mode": {
    "name": "ipython",
    "version": 3
   },
   "file_extension": ".py",
   "mimetype": "text/x-python",
   "name": "python",
   "nbconvert_exporter": "python",
   "pygments_lexer": "ipython3",
   "version": "3.7.6"
  }
 },
 "nbformat": 4,
 "nbformat_minor": 2
}
